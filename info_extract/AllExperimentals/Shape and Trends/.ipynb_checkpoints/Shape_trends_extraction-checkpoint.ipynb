{
 "cells": [
  {
   "cell_type": "code",
   "execution_count": null,
   "id": "0f8c5eb8-8b10-4396-af85-a12a91428e35",
   "metadata": {},
   "outputs": [],
   "source": [
    "import os\n",
    "import pandas as pd\n",
    "\n",
    "def extract_quality_data(base_path, data_names, methods):\n",
    "    shape_data = {data_name: {} for data_name in data_names}\n",
    "    trend_data = {data_name: {} for data_name in data_names}\n",
    "    \n",
    "    for data_name in data_names:\n",
    "        for method in methods:\n",
    "            quality_file_path = os.path.join(base_path, data_name, method, \"quality.txt\")\n",
    "            try:\n",
    "                with open(quality_file_path, 'r') as file:\n",
    "                    lines = file.readlines()\n",
    "                    shape = float(lines[0].strip())\n",
    "                    trend = float(lines[1].strip())\n",
    "                    shape_data[data_name][method] = 100*(1-shape)\n",
    "                    trend_data[data_name][method] = 100*(1-trend)\n",
    "            except Exception as e:\n",
    "                print(f\"Failed to read {quality_file_path}: {e}\")\n",
    "                shape_data[data_name][method] = None\n",
    "                trend_data[data_name][method] = None\n",
    "    shape_df = pd.DataFrame(shape_data)\n",
    "    trend_df = pd.DataFrame(trend_data)\n",
    "    \n",
    "    return shape_df, trend_df"
   ]
  },
  {
   "cell_type": "code",
   "execution_count": null,
   "id": "f7fcb745-8505-486e-8c99-6372d0755cea",
   "metadata": {},
   "outputs": [],
   "source": [
    "base_path = 'tabkde-main/eval/density'"
   ]
  },
  {
   "cell_type": "code",
   "execution_count": null,
   "id": "34371bb1-ef59-4ec3-8938-f041821429b4",
   "metadata": {},
   "outputs": [],
   "source": [
    "data_names = ['adult', 'default', 'shoppers', 'magic', 'beijing', 'news', 'ibm_func']\n",
    "methods = ['copulaDiff', 'simple_KDE_VAE_encoding', 'KDE_VAE_encoding',  'smote', 'simple_KDE', 'tabsyn', 'TabKDE' ]"
   ]
  },
  {
   "cell_type": "code",
   "execution_count": null,
   "id": "b101965d-98bb-4bab-98f4-b08023708cf7",
   "metadata": {},
   "outputs": [],
   "source": [
    "shape_df, trend_df= extract_quality_data(base_path, data_names, methods)"
   ]
  },
  {
   "cell_type": "code",
   "execution_count": null,
   "id": "362dd395-9fe8-4d3d-9920-43c393e8369f",
   "metadata": {},
   "outputs": [],
   "source": [
    "# === Display in Console ===\n",
    "print(\"=== Shape DataFrame ===\")\n",
    "\n",
    "shape_df"
   ]
  },
  {
   "cell_type": "code",
   "execution_count": null,
   "id": "c5488b8f-c564-4214-b274-0a5a8f928a4c",
   "metadata": {},
   "outputs": [],
   "source": [
    "\n",
    "print(\"\\n=== Trend DataFrame ===\")\n",
    "trend_df"
   ]
  },
  {
   "cell_type": "code",
   "execution_count": null,
   "id": "1004f9f7-9997-4ac4-b830-d7260d3cc186",
   "metadata": {},
   "outputs": [],
   "source": [
    "# === Save to CSV ===\n",
    "current_dir = os.getcwd()\n",
    "shape_df.to_csv(os.path.join(current_dir, \"ShapeError.csv\"))\n",
    "trend_df.to_csv(os.path.join(current_dir, \"TrendError.csv\"))\n",
    "\n",
    "print(f\"\\nSaved 'Shape.csv' and 'Trend.csv' to: {current_dir}\")"
   ]
  },
  {
   "cell_type": "code",
   "execution_count": null,
   "id": "f2adbdd3-06e7-440a-983e-4d7ab6d08a70",
   "metadata": {},
   "outputs": [],
   "source": []
  },
  {
   "cell_type": "code",
   "execution_count": null,
   "id": "b14fdef7-f552-43e6-9ec7-032ba1838c44",
   "metadata": {},
   "outputs": [],
   "source": []
  }
 ],
 "metadata": {
  "kernelspec": {
   "display_name": "Python 3 (ipykernel)",
   "language": "python",
   "name": "python3"
  },
  "language_info": {
   "codemirror_mode": {
    "name": "ipython",
    "version": 3
   },
   "file_extension": ".py",
   "mimetype": "text/x-python",
   "name": "python",
   "nbconvert_exporter": "python",
   "pygments_lexer": "ipython3",
   "version": "3.10.15"
  }
 },
 "nbformat": 4,
 "nbformat_minor": 5
}
