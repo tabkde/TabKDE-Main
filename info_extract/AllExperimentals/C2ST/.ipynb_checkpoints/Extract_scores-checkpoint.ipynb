{
 "cells": [
  {
   "cell_type": "code",
   "execution_count": 2,
   "id": "b01d863f-5642-4c9c-bd1a-079e9b8d8696",
   "metadata": {},
   "outputs": [],
   "source": [
    "import os\n",
    "import pandas as pd\n",
    "\n",
    "def extract_scores(base_path, data_names, method_files):\n",
    "    \"\"\"\n",
    "    Extracts numeric scores from text files.\n",
    "\n",
    "    Args:\n",
    "        base_path (str): The base directory path.\n",
    "        data_names (list of str): List of dataset folder names.\n",
    "        method_files (list of str): List of method names (each corresponds to a .txt file).\n",
    "\n",
    "    Returns:\n",
    "        pd.DataFrame: A DataFrame with datasets as rows, methods as columns, containing the extracted scores.\n",
    "    \"\"\"\n",
    "    scores = {}\n",
    "\n",
    "    for data_name in data_names:\n",
    "        scores[data_name] = {}\n",
    "        for method_file in method_files:\n",
    "            txt_path = os.path.join(base_path, data_name, method_file + '.txt')\n",
    "            try:\n",
    "                with open(txt_path, 'r') as f:\n",
    "                    value = float(f.read().strip())\n",
    "            except (FileNotFoundError, ValueError):\n",
    "                value = None\n",
    "\n",
    "            scores[data_name][method_file[:-11]] = value\n",
    "\n",
    "    df = pd.DataFrame.from_dict(scores, orient='index')\n",
    "    return df.T"
   ]
  },
  {
   "cell_type": "code",
   "execution_count": 4,
   "id": "6896f21b-24e4-4f8e-8c77-f191badafa94",
   "metadata": {},
   "outputs": [],
   "source": [
    "base_path =  '/Users/.../Desktop/tabkde-main/eval/C2ST_scores'\n",
    "data_names = ['adult_equal', 'default_equal', 'shoppers_equal', 'magic_equal', 'beijing_equal', 'news_equal']\n",
    "methods = ['real_C2ST_score', 'test_C2ST_score', 'diffusion_on_copula_C2ST_score', 'simple_KDE_VAE_encoding_C2ST_score', 'KDE_VAE_encoding_C2ST_score',  \n",
    "           'smote_C2ST_score', 'simple_KDE_C2ST_score', 'tabsyn_C2ST_score', 'TabKDE_C2ST_score' ]"
   ]
  },
  {
   "cell_type": "code",
   "execution_count": 6,
   "id": "c042ba84-00cb-4eb9-aaa0-76b701f15bca",
   "metadata": {},
   "outputs": [],
   "source": [
    "scores_df = extract_scores(base_path, data_names, method_files =  methods)"
   ]
  },
  {
   "cell_type": "code",
   "execution_count": 8,
   "id": "576be23a-1a69-4c64-ae43-398204b23b6b",
   "metadata": {},
   "outputs": [
    {
     "data": {
      "text/html": [
       "<div>\n",
       "<style scoped>\n",
       "    .dataframe tbody tr th:only-of-type {\n",
       "        vertical-align: middle;\n",
       "    }\n",
       "\n",
       "    .dataframe tbody tr th {\n",
       "        vertical-align: top;\n",
       "    }\n",
       "\n",
       "    .dataframe thead th {\n",
       "        text-align: right;\n",
       "    }\n",
       "</style>\n",
       "<table border=\"1\" class=\"dataframe\">\n",
       "  <thead>\n",
       "    <tr style=\"text-align: right;\">\n",
       "      <th></th>\n",
       "      <th>adult_equal</th>\n",
       "      <th>default_equal</th>\n",
       "      <th>shoppers_equal</th>\n",
       "      <th>magic_equal</th>\n",
       "      <th>beijing_equal</th>\n",
       "      <th>news_equal</th>\n",
       "    </tr>\n",
       "  </thead>\n",
       "  <tbody>\n",
       "    <tr>\n",
       "      <th>real</th>\n",
       "      <td>1.0000</td>\n",
       "      <td>1.0000</td>\n",
       "      <td>1.0000</td>\n",
       "      <td>1.0000</td>\n",
       "      <td>1.0000</td>\n",
       "      <td>1.0000</td>\n",
       "    </tr>\n",
       "    <tr>\n",
       "      <th>test</th>\n",
       "      <td>1.0000</td>\n",
       "      <td>0.9964</td>\n",
       "      <td>0.9978</td>\n",
       "      <td>1.0000</td>\n",
       "      <td>0.9973</td>\n",
       "      <td>0.9938</td>\n",
       "    </tr>\n",
       "    <tr>\n",
       "      <th>diffusion_on_copula</th>\n",
       "      <td>0.7379</td>\n",
       "      <td>0.7957</td>\n",
       "      <td>0.8022</td>\n",
       "      <td>0.9982</td>\n",
       "      <td>0.9046</td>\n",
       "      <td>0.9441</td>\n",
       "    </tr>\n",
       "    <tr>\n",
       "      <th>simple_KDE_VAE_encoding</th>\n",
       "      <td>0.6803</td>\n",
       "      <td>0.6101</td>\n",
       "      <td>0.5239</td>\n",
       "      <td>0.9115</td>\n",
       "      <td>0.8913</td>\n",
       "      <td>0.4066</td>\n",
       "    </tr>\n",
       "    <tr>\n",
       "      <th>KDE_VAE_encoding</th>\n",
       "      <td>0.6929</td>\n",
       "      <td>0.7478</td>\n",
       "      <td>0.6687</td>\n",
       "      <td>0.9137</td>\n",
       "      <td>0.8924</td>\n",
       "      <td>0.8683</td>\n",
       "    </tr>\n",
       "    <tr>\n",
       "      <th>smote</th>\n",
       "      <td>0.9303</td>\n",
       "      <td>0.9203</td>\n",
       "      <td>0.9090</td>\n",
       "      <td>0.9803</td>\n",
       "      <td>0.9907</td>\n",
       "      <td>0.8610</td>\n",
       "    </tr>\n",
       "    <tr>\n",
       "      <th>simple_KDE</th>\n",
       "      <td>0.8982</td>\n",
       "      <td>0.8515</td>\n",
       "      <td>0.8556</td>\n",
       "      <td>0.9620</td>\n",
       "      <td>0.9568</td>\n",
       "      <td>0.5114</td>\n",
       "    </tr>\n",
       "    <tr>\n",
       "      <th>tabsyn</th>\n",
       "      <td>0.9850</td>\n",
       "      <td>0.9698</td>\n",
       "      <td>0.9389</td>\n",
       "      <td>1.0000</td>\n",
       "      <td>0.9849</td>\n",
       "      <td>0.9462</td>\n",
       "    </tr>\n",
       "    <tr>\n",
       "      <th>TabKDE</th>\n",
       "      <td>0.8873</td>\n",
       "      <td>0.9692</td>\n",
       "      <td>0.8977</td>\n",
       "      <td>1.0000</td>\n",
       "      <td>0.9453</td>\n",
       "      <td>0.9151</td>\n",
       "    </tr>\n",
       "  </tbody>\n",
       "</table>\n",
       "</div>"
      ],
      "text/plain": [
       "                         adult_equal  default_equal  shoppers_equal  \\\n",
       "real                          1.0000         1.0000          1.0000   \n",
       "test                          1.0000         0.9964          0.9978   \n",
       "diffusion_on_copula           0.7379         0.7957          0.8022   \n",
       "simple_KDE_VAE_encoding       0.6803         0.6101          0.5239   \n",
       "KDE_VAE_encoding              0.6929         0.7478          0.6687   \n",
       "smote                         0.9303         0.9203          0.9090   \n",
       "simple_KDE                    0.8982         0.8515          0.8556   \n",
       "tabsyn                        0.9850         0.9698          0.9389   \n",
       "TabKDE                        0.8873         0.9692          0.8977   \n",
       "\n",
       "                         magic_equal  beijing_equal  news_equal  \n",
       "real                          1.0000         1.0000      1.0000  \n",
       "test                          1.0000         0.9973      0.9938  \n",
       "diffusion_on_copula           0.9982         0.9046      0.9441  \n",
       "simple_KDE_VAE_encoding       0.9115         0.8913      0.4066  \n",
       "KDE_VAE_encoding              0.9137         0.8924      0.8683  \n",
       "smote                         0.9803         0.9907      0.8610  \n",
       "simple_KDE                    0.9620         0.9568      0.5114  \n",
       "tabsyn                        1.0000         0.9849      0.9462  \n",
       "TabKDE                        1.0000         0.9453      0.9151  "
      ]
     },
     "execution_count": 8,
     "metadata": {},
     "output_type": "execute_result"
    }
   ],
   "source": [
    "scores_df"
   ]
  },
  {
   "cell_type": "code",
   "execution_count": 37,
   "id": "33d7888a-bf20-4279-bb1e-85b387e23316",
   "metadata": {},
   "outputs": [],
   "source": [
    "current_dir = os.getcwd()\n",
    "scores_df.to_csv(os.path.join(current_dir, \"C2ST.csv\"))"
   ]
  },
  {
   "cell_type": "code",
   "execution_count": 35,
   "id": "1b843fa3-aaaf-4f4b-82d1-796d22452113",
   "metadata": {},
   "outputs": [
    {
     "data": {
      "text/plain": [
       "'/Users/meysamalishahi/Desktop/tabsyn-main/KDE/AllExperimentals/C2ST'"
      ]
     },
     "execution_count": 35,
     "metadata": {},
     "output_type": "execute_result"
    }
   ],
   "source": [
    "current_dir"
   ]
  },
  {
   "cell_type": "code",
   "execution_count": null,
   "id": "c37a4c7c-6cc3-4a50-b8d0-c0edf32acd04",
   "metadata": {},
   "outputs": [],
   "source": []
  }
 ],
 "metadata": {
  "kernelspec": {
   "display_name": "Python 3 (ipykernel)",
   "language": "python",
   "name": "python3"
  },
  "language_info": {
   "codemirror_mode": {
    "name": "ipython",
    "version": 3
   },
   "file_extension": ".py",
   "mimetype": "text/x-python",
   "name": "python",
   "nbconvert_exporter": "python",
   "pygments_lexer": "ipython3",
   "version": "3.10.15"
  }
 },
 "nbformat": 4,
 "nbformat_minor": 5
}
