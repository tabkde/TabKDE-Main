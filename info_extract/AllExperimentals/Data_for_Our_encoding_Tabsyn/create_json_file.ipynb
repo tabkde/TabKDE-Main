{
 "cells": [
  {
   "cell_type": "code",
   "execution_count": 59,
   "id": "605efb20-5753-4f11-9371-ca24df0e4ddd",
   "metadata": {},
   "outputs": [],
   "source": [
    "import pandas as pd\n",
    "import json\n",
    "import os"
   ]
  },
  {
   "cell_type": "code",
   "execution_count": 86,
   "id": "a9993448-8416-466d-8ea7-eaf63f8a154c",
   "metadata": {},
   "outputs": [],
   "source": [
    "data_name = 'adult_equal_copula_encoded'"
   ]
  },
  {
   "cell_type": "code",
   "execution_count": 88,
   "id": "83f61dec-8d39-4ff9-817f-c67fc2cec112",
   "metadata": {},
   "outputs": [],
   "source": [
    "df_real = pd.read_csv(f'{data_name}/real.csv')\n",
    "df_test = pd.read_csv(f'{data_name}/test.csv')"
   ]
  },
  {
   "cell_type": "code",
   "execution_count": 90,
   "id": "390fb35a-0c0a-4318-b0be-a5b52077e6e1",
   "metadata": {},
   "outputs": [
    {
     "data": {
      "text/plain": [
       "['age',\n",
       " 'workclass',\n",
       " 'fnlwgt',\n",
       " 'education',\n",
       " 'education.num',\n",
       " 'marital.status',\n",
       " 'occupation',\n",
       " 'relationship',\n",
       " 'race',\n",
       " 'sex',\n",
       " 'capital.gain',\n",
       " 'capital.loss',\n",
       " 'hours.per.week',\n",
       " 'native.country',\n",
       " 'income',\n",
       " 'label']"
      ]
     },
     "execution_count": 90,
     "metadata": {},
     "output_type": "execute_result"
    }
   ],
   "source": [
    "C = list(df_real.columns)\n",
    "C"
   ]
  },
  {
   "cell_type": "code",
   "execution_count": 92,
   "id": "c1fbd27f-da8b-47aa-8606-90501d4d140a",
   "metadata": {},
   "outputs": [],
   "source": [
    "m, n = df_real.shape[0], df_test.shape[0]"
   ]
  },
  {
   "cell_type": "code",
   "execution_count": 94,
   "id": "50ba524a-0420-4962-b059-e4c8c66ccf35",
   "metadata": {},
   "outputs": [],
   "source": [
    "num_columns = C[:-1]"
   ]
  },
  {
   "cell_type": "code",
   "execution_count": 96,
   "id": "942945c5-1b66-4964-9c42-ee80db45232c",
   "metadata": {},
   "outputs": [],
   "source": [
    "cat_columns = []\n",
    "target_column = C[-1]"
   ]
  },
  {
   "cell_type": "code",
   "execution_count": 98,
   "id": "a0647d26-df29-4dd1-901b-52ad08d3e32d",
   "metadata": {},
   "outputs": [
    {
     "data": {
      "text/plain": [
       "(['age',\n",
       "  'workclass',\n",
       "  'fnlwgt',\n",
       "  'education',\n",
       "  'education.num',\n",
       "  'marital.status',\n",
       "  'occupation',\n",
       "  'relationship',\n",
       "  'race',\n",
       "  'sex',\n",
       "  'capital.gain',\n",
       "  'capital.loss',\n",
       "  'hours.per.week',\n",
       "  'native.country',\n",
       "  'income'],\n",
       " 'label')"
      ]
     },
     "execution_count": 98,
     "metadata": {},
     "output_type": "execute_result"
    }
   ],
   "source": [
    "num_columns, target_column"
   ]
  },
  {
   "cell_type": "code",
   "execution_count": 106,
   "id": "66be79f0-d42a-48e5-8a24-d2231e957e4d",
   "metadata": {},
   "outputs": [],
   "source": [
    "def create_dataset_json(\n",
    "    name,\n",
    "    column_names,\n",
    "    num_columns,\n",
    "    cat_columns,\n",
    "    target_column,\n",
    "    train_num,\n",
    "    test_num,\n",
    "    task_type=\"binclass\"\n",
    "):\n",
    "    # Get column indices\n",
    "    num_col_idx = [column_names.index(col) for col in num_columns]\n",
    "    cat_col_idx = [column_names.index(col) for col in cat_columns]\n",
    "    target_col_idx = [column_names.index(target_column)]\n",
    "\n",
    "    # Construct column_info\n",
    "    column_info = {}\n",
    "    for col in column_names:\n",
    "        if col in cat_columns:\n",
    "            column_info[col] = \"str\"\n",
    "        elif col == target_column:\n",
    "            column_info[col] = \"str\" if task_type != \"regression\" else \"float\"\n",
    "        else:\n",
    "            column_info[col] = \"float\"\n",
    "\n",
    "    # Create paths\n",
    "    data_path = f\"data/{name}/real.csv\"\n",
    "    test_path = f\"data/{name}/test.csv\"\n",
    "\n",
    "    # Construct the final dictionary\n",
    "    dataset_dict = {\n",
    "        \"name\": name,\n",
    "        \"task_type\": task_type,\n",
    "        \"header\": 'infer',\n",
    "        \"column_names\": column_names,\n",
    "        \"num_col_idx\": num_col_idx,\n",
    "        \"cat_col_idx\": cat_col_idx,\n",
    "        \"target_col_idx\": target_col_idx,\n",
    "        \"file_type\": \"csv\",\n",
    "        \"data_path\": data_path,\n",
    "        \"test_path\": test_path,\n",
    "        \"column_info\": column_info,\n",
    "        \"train_num\": train_num,\n",
    "        \"test_num\": test_num\n",
    "    }\n",
    "\n",
    "    # Save to JSON file\n",
    "    output_path = f\"{name}/{name}.json\"\n",
    "    with open(output_path, 'w') as f:\n",
    "        json.dump(dataset_dict, f, indent=4)\n",
    "    \n",
    "    print(f\"JSON file saved as: {output_path}\")"
   ]
  },
  {
   "cell_type": "code",
   "execution_count": 108,
   "id": "23dcd884-7c29-427a-82b4-7814ec02934a",
   "metadata": {},
   "outputs": [
    {
     "name": "stdout",
     "output_type": "stream",
     "text": [
      "JSON file saved as: adult_equal_copula_encoded/adult_equal_copula_encoded.json\n"
     ]
    }
   ],
   "source": [
    "create_dataset_json(\n",
    "    name = f'{data_name}',\n",
    "    column_names = C,\n",
    "    num_columns = num_columns,\n",
    "    cat_columns = [],\n",
    "    target_column = target_column,\n",
    "    train_num = m,\n",
    "    test_num = n,\n",
    "    task_type=\"binclass\"\n",
    ")"
   ]
  },
  {
   "cell_type": "code",
   "execution_count": null,
   "id": "fc498b06-cd0b-49f3-b886-1a374f7450b2",
   "metadata": {},
   "outputs": [],
   "source": []
  },
  {
   "cell_type": "code",
   "execution_count": null,
   "id": "40e0ecd8-4a59-4f19-b3b6-d92c97314399",
   "metadata": {},
   "outputs": [],
   "source": []
  },
  {
   "cell_type": "code",
   "execution_count": null,
   "id": "7f5b22eb-b5bd-427b-b16f-94cfe03ac15c",
   "metadata": {},
   "outputs": [],
   "source": []
  },
  {
   "cell_type": "code",
   "execution_count": null,
   "id": "59b5d0e3-c21e-4e4a-9695-9e0fb0bdde1b",
   "metadata": {},
   "outputs": [],
   "source": []
  }
 ],
 "metadata": {
  "kernelspec": {
   "display_name": "Python 3 (ipykernel)",
   "language": "python",
   "name": "python3"
  },
  "language_info": {
   "codemirror_mode": {
    "name": "ipython",
    "version": 3
   },
   "file_extension": ".py",
   "mimetype": "text/x-python",
   "name": "python",
   "nbconvert_exporter": "python",
   "pygments_lexer": "ipython3",
   "version": "3.12.7"
  }
 },
 "nbformat": 4,
 "nbformat_minor": 5
}
